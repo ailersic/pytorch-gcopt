{
  "cells": [
    {
      "cell_type": "markdown",
      "metadata": {},
      "source": [
        "\n",
        "# U-NO on Darcy-Flow\n",
        "\n",
        "In this example, we demonstrate how to train a U-shaped Neural Operator on \n",
        "the small Darcy-Flow example we ship with the package\n"
      ]
    },
    {
      "cell_type": "code",
      "execution_count": 144,
      "metadata": {
        "collapsed": false
      },
      "outputs": [],
      "source": [
        "import torch\n",
        "import matplotlib.pyplot as plt\n",
        "import sys\n",
        "from neuralop.models import TFNO, UNO\n",
        "from neuralop import Trainer\n",
        "from neuralop.datasets import load_darcy_flow_small\n",
        "from neuralop.utils import count_model_params\n",
        "from neuralop import LpLoss, H1Loss\n",
        "\n",
        "from gc_src.gc_opt import GCOptimizer, WarmupScheduler\n",
        "\n",
        "device = 'cpu'"
      ]
    },
    {
      "cell_type": "markdown",
      "metadata": {},
      "source": [
        "Loading the Darcy Flow dataset\n",
        "\n"
      ]
    },
    {
      "cell_type": "code",
      "execution_count": 145,
      "metadata": {
        "collapsed": false
      },
      "outputs": [
        {
          "name": "stdout",
          "output_type": "stream",
          "text": [
            "Loading test db at resolution 32 with 50 samples and batch-size=32\n",
            "\n",
            "Our model has 2665921 parameters.\n"
          ]
        }
      ],
      "source": [
        "train_loader, test_loaders, data_processor = load_darcy_flow_small(\n",
        "        n_train=1000, batch_size=32, \n",
        "        test_resolutions=[16, 32], n_tests=[100, 50],\n",
        "        test_batch_sizes=[32, 32],\n",
        ")\n",
        "\n",
        "\n",
        "\n",
        "model = UNO(3,1, hidden_channels=64, projection_channels=64,uno_out_channels = [32,64,64,64,32], \\\n",
        "            uno_n_modes= [[16,16],[8,8],[8,8],[8,8],[16,16]], uno_scalings=  [[1.0,1.0],[0.5,0.5],[1,1],[2,2],[1,1]],\\\n",
        "            horizontal_skips_map = None, n_layers = 5, domain_padding = 0.2)\n",
        "model = model.to(device)\n",
        "\n",
        "n_params = count_model_params(model)\n",
        "print(f'\\nOur model has {n_params} parameters.')\n",
        "sys.stdout.flush()"
      ]
    },
    {
      "cell_type": "markdown",
      "metadata": {},
      "source": [
        "Create the optimizer\n",
        "\n"
      ]
    },
    {
      "cell_type": "code",
      "execution_count": 146,
      "metadata": {
        "collapsed": false
      },
      "outputs": [],
      "source": [
        "base_optimizer = torch.optim.Adam(model.parameters(), \n",
        "                                lr=8e-4, \n",
        "                                weight_decay=0.0)\n",
        "scheduler = torch.optim.lr_scheduler.CosineAnnealingLR(base_optimizer, T_max=30)\n",
        "#contvar0 = float('nan')\n",
        "contvar0 = 1e-4\n",
        "contlr = 5e-1\n",
        "warmup = 8\n",
        "optimizer = GCOptimizer(base_optimizer, cont_var0 = contvar0, cont_lr = contlr)\n",
        "warmupscheduler = WarmupScheduler(optimizer, warmup_epochs = warmup)"
      ]
    },
    {
      "cell_type": "markdown",
      "metadata": {},
      "source": [
        "Creating the losses\n",
        "\n"
      ]
    },
    {
      "cell_type": "code",
      "execution_count": 147,
      "metadata": {
        "collapsed": false
      },
      "outputs": [],
      "source": [
        "l2loss = LpLoss(d=2, p=2)\n",
        "h1loss = H1Loss(d=2)\n",
        "\n",
        "train_loss = h1loss\n",
        "eval_losses={'h1': h1loss, 'l2': l2loss}"
      ]
    },
    {
      "cell_type": "code",
      "execution_count": 148,
      "metadata": {
        "collapsed": false
      },
      "outputs": [
        {
          "name": "stdout",
          "output_type": "stream",
          "text": [
            "\n",
            "### MODEL ###\n",
            " UNO(\n",
            "  (domain_padding): DomainPadding()\n",
            "  (lifting): MLP(\n",
            "    (fcs): ModuleList(\n",
            "      (0): Conv2d(3, 256, kernel_size=(1, 1), stride=(1, 1))\n",
            "      (1): Conv2d(256, 64, kernel_size=(1, 1), stride=(1, 1))\n",
            "    )\n",
            "  )\n",
            "  (fno_blocks): ModuleList(\n",
            "    (0): FNOBlocks(\n",
            "      (convs): SpectralConv(\n",
            "        (weight): ModuleList(\n",
            "          (0): ComplexDenseTensor(shape=torch.Size([64, 32, 16, 9]), rank=None)\n",
            "        )\n",
            "      )\n",
            "      (fno_skips): ModuleList(\n",
            "        (0): Conv2d(64, 32, kernel_size=(1, 1), stride=(1, 1), bias=False)\n",
            "      )\n",
            "    )\n",
            "    (1): FNOBlocks(\n",
            "      (convs): SpectralConv(\n",
            "        (weight): ModuleList(\n",
            "          (0): ComplexDenseTensor(shape=torch.Size([32, 64, 8, 5]), rank=None)\n",
            "        )\n",
            "      )\n",
            "      (fno_skips): ModuleList(\n",
            "        (0): Conv2d(32, 64, kernel_size=(1, 1), stride=(1, 1), bias=False)\n",
            "      )\n",
            "    )\n",
            "    (2): FNOBlocks(\n",
            "      (convs): SpectralConv(\n",
            "        (weight): ModuleList(\n",
            "          (0): ComplexDenseTensor(shape=torch.Size([64, 64, 8, 5]), rank=None)\n",
            "        )\n",
            "      )\n",
            "      (fno_skips): ModuleList(\n",
            "        (0): Conv2d(64, 64, kernel_size=(1, 1), stride=(1, 1), bias=False)\n",
            "      )\n",
            "    )\n",
            "    (3): FNOBlocks(\n",
            "      (convs): SpectralConv(\n",
            "        (weight): ModuleList(\n",
            "          (0): ComplexDenseTensor(shape=torch.Size([128, 64, 8, 5]), rank=None)\n",
            "        )\n",
            "      )\n",
            "      (fno_skips): ModuleList(\n",
            "        (0): Conv2d(128, 64, kernel_size=(1, 1), stride=(1, 1), bias=False)\n",
            "      )\n",
            "    )\n",
            "    (4): FNOBlocks(\n",
            "      (convs): SpectralConv(\n",
            "        (weight): ModuleList(\n",
            "          (0): ComplexDenseTensor(shape=torch.Size([96, 32, 16, 9]), rank=None)\n",
            "        )\n",
            "      )\n",
            "      (fno_skips): ModuleList(\n",
            "        (0): Conv2d(96, 32, kernel_size=(1, 1), stride=(1, 1), bias=False)\n",
            "      )\n",
            "    )\n",
            "  )\n",
            "  (horizontal_skips): ModuleDict(\n",
            "    (0): Conv2d(32, 32, kernel_size=(1, 1), stride=(1, 1), bias=False)\n",
            "    (1): Conv2d(64, 64, kernel_size=(1, 1), stride=(1, 1), bias=False)\n",
            "  )\n",
            "  (projection): MLP(\n",
            "    (fcs): ModuleList(\n",
            "      (0): Conv2d(32, 64, kernel_size=(1, 1), stride=(1, 1))\n",
            "      (1): Conv2d(64, 1, kernel_size=(1, 1), stride=(1, 1))\n",
            "    )\n",
            "  )\n",
            ")\n",
            "\n",
            "### OPTIMIZER ###\n",
            " GCOptimizer (\n",
            "Parameter Group 0\n",
            "    amsgrad: False\n",
            "    betas: (0.9, 0.999)\n",
            "    capturable: False\n",
            "    differentiable: False\n",
            "    eps: 1e-08\n",
            "    foreach: None\n",
            "    fused: None\n",
            "    initial_lr: 0.0008\n",
            "    lr: 0.0008\n",
            "    maximize: False\n",
            "    weight_decay: 0.0\n",
            ")\n",
            "\n",
            "### SCHEDULER ###\n",
            " <torch.optim.lr_scheduler.CosineAnnealingLR object at 0x7f2dbac228d0>\n",
            "\n",
            "### LOSSES ###\n",
            "\n",
            " * Train: <neuralop.losses.data_losses.H1Loss object at 0x7f2db0e3c390>\n",
            "\n",
            " * Test: {'h1': <neuralop.losses.data_losses.H1Loss object at 0x7f2db0e3c390>, 'l2': <neuralop.losses.data_losses.LpLoss object at 0x7f2db1b7a550>}\n"
          ]
        }
      ],
      "source": [
        "print('\\n### MODEL ###\\n', model)\n",
        "print('\\n### OPTIMIZER ###\\n', optimizer)\n",
        "print('\\n### SCHEDULER ###\\n', scheduler)\n",
        "print('\\n### LOSSES ###')\n",
        "print(f'\\n * Train: {train_loss}')\n",
        "print(f'\\n * Test: {eval_losses}')\n",
        "sys.stdout.flush()"
      ]
    },
    {
      "cell_type": "markdown",
      "metadata": {},
      "source": [
        "Create the trainer\n",
        "\n"
      ]
    },
    {
      "cell_type": "code",
      "execution_count": 149,
      "metadata": {
        "collapsed": false
      },
      "outputs": [
        {
          "name": "stdout",
          "output_type": "stream",
          "text": [
            "self.override_load_to_device=False\n",
            "self.overrides_loss=False\n"
          ]
        }
      ],
      "source": [
        "trainer = Trainer(model=model,\n",
        "                   n_epochs=20,\n",
        "                  device=device,\n",
        "                  data_processor=data_processor,\n",
        "                  wandb_log=False,\n",
        "                  log_test_interval=3,\n",
        "                  use_distributed=False,\n",
        "                  verbose=True)"
      ]
    },
    {
      "cell_type": "markdown",
      "metadata": {},
      "source": [
        "Actually train the model on our small Darcy-Flow dataset\n",
        "\n"
      ]
    },
    {
      "cell_type": "code",
      "execution_count": 150,
      "metadata": {
        "collapsed": false
      },
      "outputs": [
        {
          "data": {
            "text/plain": [
              "'trainer.train(train_loader=train_loader,\\n              test_loaders=test_loaders,\\n              optimizer=optimizer,\\n              scheduler=scheduler, \\n              regularizer=False, \\n              training_loss=train_loss,\\n              eval_losses=eval_losses)'"
            ]
          },
          "execution_count": 150,
          "metadata": {},
          "output_type": "execute_result"
        }
      ],
      "source": [
        "'''trainer.train(train_loader=train_loader,\n",
        "              test_loaders=test_loaders,\n",
        "              optimizer=optimizer,\n",
        "              scheduler=scheduler, \n",
        "              regularizer=False, \n",
        "              training_loss=train_loss,\n",
        "              eval_losses=eval_losses)'''"
      ]
    },
    {
      "cell_type": "code",
      "execution_count": 151,
      "metadata": {},
      "outputs": [
        {
          "name": "stdout",
          "output_type": "stream",
          "text": [
            "Epoch 0, train loss: 0.655308, test loss: 0.446093, optim contvar: 1.00e-04, optim lr: 7.98e-04\n",
            "Epoch 1, train loss: 0.377916, test loss: 0.361255, optim contvar: 1.00e-04, optim lr: 7.91e-04\n",
            "Epoch 2, train loss: 0.324650, test loss: 0.310732, optim contvar: 1.00e-04, optim lr: 7.80e-04\n",
            "Epoch 3, train loss: 0.298744, test loss: 0.299271, optim contvar: 1.00e-04, optim lr: 7.65e-04\n",
            "Epoch 4, train loss: 0.282271, test loss: 0.292643, optim contvar: 1.00e-04, optim lr: 7.46e-04\n",
            "Epoch 5, train loss: 0.279757, test loss: 0.261308, optim contvar: 1.00e-04, optim lr: 7.24e-04\n",
            "Epoch 6, train loss: 0.263187, test loss: 0.256279, optim contvar: 1.00e-04, optim lr: 6.97e-04\n",
            "Epoch 7, train loss: 0.267942, test loss: 0.257608, optim contvar: 1.00e-04, optim lr: 6.68e-04\n",
            "Epoch 8, train loss: 0.238976, test loss: 0.232468, optim contvar: 2.46e-07, optim lr: 6.35e-04\n",
            "Epoch 9, train loss: 0.221806, test loss: 0.237826, optim contvar: 1.63e-07, optim lr: 6.00e-04\n",
            "Epoch 10, train loss: 0.220608, test loss: 0.230123, optim contvar: 1.39e-07, optim lr: 5.63e-04\n",
            "Epoch 11, train loss: 0.212893, test loss: 0.214689, optim contvar: 9.14e-08, optim lr: 5.24e-04\n",
            "Epoch 12, train loss: 0.206653, test loss: 0.214619, optim contvar: 7.91e-08, optim lr: 4.83e-04\n",
            "Epoch 13, train loss: 0.205042, test loss: 0.226424, optim contvar: 4.63e-08, optim lr: 4.42e-04\n",
            "Epoch 14, train loss: 0.202569, test loss: 0.212506, optim contvar: 4.76e-08, optim lr: 4.00e-04\n",
            "Epoch 15, train loss: 0.198712, test loss: 0.211910, optim contvar: 4.00e-08, optim lr: 3.58e-04\n",
            "Epoch 16, train loss: 0.196492, test loss: 0.213644, optim contvar: 3.29e-08, optim lr: 3.17e-04\n",
            "Epoch 17, train loss: 0.193978, test loss: 0.212154, optim contvar: 3.36e-08, optim lr: 2.76e-04\n",
            "Epoch 18, train loss: 0.191486, test loss: 0.206672, optim contvar: 2.87e-08, optim lr: 2.37e-04\n",
            "Epoch 19, train loss: 0.189704, test loss: 0.209332, optim contvar: 2.73e-08, optim lr: 2.00e-04\n"
          ]
        }
      ],
      "source": [
        "for epoch in range(trainer.n_epochs):\n",
        "    model.train()\n",
        "    train_err = 0.0\n",
        "    train_samples = 0\n",
        "\n",
        "    for idx, sample in enumerate(train_loader):\n",
        "        if trainer.data_processor is not None:\n",
        "            sample = trainer.data_processor.preprocess(sample)\n",
        "        else:\n",
        "            # load data to device if no preprocessor exists\n",
        "            sample = {\n",
        "                k: v.to(self.device)\n",
        "                for k, v in sample.items()\n",
        "                if torch.is_tensor(v)\n",
        "            }\n",
        "        \n",
        "        train_samples += sample[\"y\"].shape[0]\n",
        "\n",
        "        def closure():\n",
        "            # zero the parameter gradients\n",
        "            optimizer.zero_grad(set_to_none=True)\n",
        "\n",
        "            # forward + backward\n",
        "            out = model(**sample)\n",
        "            loss = train_loss(out, **sample)\n",
        "            loss.backward()\n",
        "            del out\n",
        "\n",
        "            return loss\n",
        "\n",
        "        loss = optimizer.step(closure)\n",
        "        train_err += loss.item()\n",
        "\n",
        "    scheduler.step()\n",
        "    warmupscheduler.step()\n",
        "\n",
        "    # test error\n",
        "    model.eval()\n",
        "    test_err = 0.0\n",
        "    test_samples = 0\n",
        "    test_loader = test_loaders[16]\n",
        "\n",
        "    for idx, sample in enumerate(test_loader):\n",
        "        if trainer.data_processor is not None:\n",
        "            sample = trainer.data_processor.preprocess(sample)\n",
        "        else:\n",
        "            # load data to device if no preprocessor exists\n",
        "            sample = {\n",
        "                k: v.to(self.device)\n",
        "                for k, v in sample.items()\n",
        "                if torch.is_tensor(v)\n",
        "            }\n",
        "\n",
        "        test_samples += sample[\"y\"].shape[0]\n",
        "\n",
        "        with torch.no_grad():\n",
        "            out = model(**sample)\n",
        "            loss = eval_losses['h1'](out, **sample)\n",
        "            test_err += loss.item()\n",
        "            del out\n",
        "\n",
        "    train_err /= train_samples\n",
        "    test_err /= test_samples\n",
        "\n",
        "    print(f'Epoch {epoch}, train loss: {train_err:.6f}, test loss: {test_err:.6f}, optim contvar: {torch.exp(optimizer.logcontvar).detach():.2e}, optim lr: {optimizer.param_groups[0][\"lr\"]:.2e}')\n",
        "\n",
        "with open(f'res_{contvar0:.1e}_{contlr:.1e}_{warmup}.txt', \"a\") as myfile:\n",
        "    myfile.write(f'{train_err:.6f}, {test_err:.6f}, {torch.exp(optimizer.logcontvar).detach():.2e}\\n')\n"
      ]
    },
    {
      "cell_type": "markdown",
      "metadata": {},
      "source": [
        "Plot the prediction, and compare with the ground-truth \n",
        "Note that we trained on a very small resolution for\n",
        "a very small number of epochs\n",
        "In practice, we would train at larger resolution, on many more samples.\n",
        "\n",
        "However, for practicity, we created a minimal example that\n",
        "i) fits in just a few Mb of memory\n",
        "ii) can be trained quickly on CPU\n",
        "\n",
        "In practice we would train a Neural Operator on one or multiple GPUs\n",
        "\n"
      ]
    },
    {
      "cell_type": "code",
      "execution_count": 152,
      "metadata": {
        "collapsed": false
      },
      "outputs": [
        {
          "data": {
            "image/png": "[encoded data removed]",
            "text/plain": [
              "<Figure size 700x700 with 9 Axes>"
            ]
          },
          "metadata": {},
          "output_type": "display_data"
        }
      ],
      "source": [
        "test_samples = test_loaders[32].dataset\n",
        "\n",
        "fig = plt.figure(figsize=(7, 7))\n",
        "for index in range(3):\n",
        "    data = test_samples[index]\n",
        "    data = data_processor.preprocess(data, batched=False)\n",
        "    # Input x\n",
        "    x = data['x']\n",
        "    # Ground-truth\n",
        "    y = data['y']\n",
        "    # Model prediction\n",
        "    out = model(x.unsqueeze(0).to(device)).cpu()\n",
        "\n",
        "    ax = fig.add_subplot(3, 3, index*3 + 1)\n",
        "    ax.imshow(x[0], cmap='gray')\n",
        "    if index == 0: \n",
        "        ax.set_title('Input x')\n",
        "    plt.xticks([], [])\n",
        "    plt.yticks([], [])\n",
        "\n",
        "    ax = fig.add_subplot(3, 3, index*3 + 2)\n",
        "    ax.imshow(y.squeeze())\n",
        "    if index == 0: \n",
        "        ax.set_title('Ground-truth y')\n",
        "    plt.xticks([], [])\n",
        "    plt.yticks([], [])\n",
        "\n",
        "    ax = fig.add_subplot(3, 3, index*3 + 3)\n",
        "    ax.imshow(out.squeeze().detach().numpy())\n",
        "    if index == 0: \n",
        "        ax.set_title('Model prediction')\n",
        "    plt.xticks([], [])\n",
        "    plt.yticks([], [])\n",
        "\n",
        "fig.suptitle('Inputs, ground-truth output and prediction.', y=0.98)\n",
        "plt.tight_layout()\n",
        "fig.show()"
      ]
    }
  ],
  "metadata": {
    "kernelspec": {
      "display_name": "Python 3",
      "language": "python",
      "name": "python3"
    },
    "language_info": {
      "codemirror_mode": {
        "name": "ipython",
        "version": 3
      },
      "file_extension": ".py",
      "mimetype": "text/x-python",
      "name": "python",
      "nbconvert_exporter": "python",
      "pygments_lexer": "ipython3",
      "version": "3.11.4"
    }
  },
  "nbformat": 4,
  "nbformat_minor": 0
}
