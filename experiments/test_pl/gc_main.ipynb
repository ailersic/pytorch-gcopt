{
 "cells": [
  {
   "cell_type": "code",
   "execution_count": 1,
   "metadata": {},
   "outputs": [
    {
     "name": "stdout",
     "output_type": "stream",
     "text": [
      "True\n",
      "True\n"
     ]
    }
   ],
   "source": [
    "import torch\n",
    "import pytorch_lightning as pl\n",
    "import numpy as np\n",
    "import matplotlib.pyplot as plt\n",
    "from gc_celeba_gan import *\n",
    "\n",
    "print(torch.cuda.is_available())\n",
    "torch.zeros(1).cuda()\n",
    "torch.set_float32_matmul_precision('high')"
   ]
  },
  {
   "cell_type": "code",
   "execution_count": 2,
   "metadata": {},
   "outputs": [],
   "source": [
    "def run_case(hyperparams: list) -> None:\n",
    "    mymodel = CelebAGAN(*hyperparams)\n",
    "\n",
    "    # training\n",
    "    logger = pl.loggers.tensorboard.TensorBoardLogger('.', name=f'out_{mymodel.datasetname}_{mymodel.epochs}_' + '_'.join([f'{p:.4f}' for p in hyperparams]))\n",
    "    trainer = pl.Trainer(max_epochs=mymodel.epochs, accelerator='gpu', logger=logger, log_every_n_steps=3)\n",
    "    trainer.fit(mymodel)\n",
    "\n",
    "def sweep_hyperparams(hyperparam_list: list, n_runs: int, hyperparams: list = []) -> None:\n",
    "    if len(hyperparams) == len(hyperparam_list):\n",
    "        for i in range(n_runs):\n",
    "            print('-'*80)\n",
    "            print(f'Running case with hyperparams {hyperparams}')\n",
    "            print('-'*80)\n",
    "\n",
    "            run_case(hyperparams)\n",
    "\n",
    "    else:\n",
    "        for hyperparam_i in hyperparam_list[len(hyperparams)]:\n",
    "            new_hyperparams = hyperparams + [hyperparam_i]\n",
    "            sweep_hyperparams(hyperparam_list, n_runs, new_hyperparams)\n",
    "    "
   ]
  },
  {
   "cell_type": "code",
   "execution_count": 3,
   "metadata": {},
   "outputs": [
    {
     "name": "stderr",
     "output_type": "stream",
     "text": [
      "GPU available: True (cuda), used: True\n",
      "TPU available: False, using: 0 TPU cores\n",
      "IPU available: False, using: 0 IPUs\n",
      "HPU available: False, using: 0 HPUs\n",
      "Missing logger folder: ./out_PredPrey_500_-9.2103_nan_0.1000_0.0000_100.0000\n",
      "LOCAL_RANK: 0 - CUDA_VISIBLE_DEVICES: [0]\n",
      "\n",
      "  | Name | Type       | Params\n",
      "------------------------------------\n",
      "0 | net  | Sequential | 8.0 K \n",
      "------------------------------------\n",
      "8.0 K     Trainable params\n",
      "0         Non-trainable params\n",
      "8.0 K     Total params\n",
      "0.032     Total estimated model params size (MB)\n"
     ]
    },
    {
     "name": "stdout",
     "output_type": "stream",
     "text": [
      "--------------------------------------------------------------------------------\n",
      "Running case with hyperparams [-9.210340371976182, nan, 0.1, 0.0, 100]\n",
      "--------------------------------------------------------------------------------\n",
      "Epoch 438:  57%|█████▋    | 4/7 [00:02<00:01,  1.72it/s, v_num=0, contvar=6.16e-10, train_loss=0.0646, val_loss=0.0301]"
     ]
    }
   ],
   "source": [
    "def main() -> None:\n",
    "    # model hyperparameters\n",
    "    logcontvar0 = [float('nan'), np.log(1e-4)]\n",
    "    loggradvar0 = [float('nan')]\n",
    "    cont_lr = [1e-2]\n",
    "    cont_reg = [0.0]\n",
    "    warmup_epochs = [100]\n",
    "    n_runs = 5\n",
    "\n",
    "    hyperparam_list = [logcontvar0, loggradvar0, cont_lr, cont_reg, warmup_epochs]\n",
    "    sweep_hyperparams(hyperparam_list, n_runs)\n",
    "\n",
    "if __name__ == \"__main__\":\n",
    "    main()"
   ]
  }
 ],
 "metadata": {
  "kernelspec": {
   "display_name": "gcenv",
   "language": "python",
   "name": "python3"
  },
  "language_info": {
   "codemirror_mode": {
    "name": "ipython",
    "version": 3
   },
   "file_extension": ".py",
   "mimetype": "text/x-python",
   "name": "python",
   "nbconvert_exporter": "python",
   "pygments_lexer": "ipython3",
   "version": "3.11.4"
  }
 },
 "nbformat": 4,
 "nbformat_minor": 2
}
