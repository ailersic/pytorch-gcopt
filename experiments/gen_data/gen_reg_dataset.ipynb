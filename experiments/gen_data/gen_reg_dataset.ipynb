{
 "cells": [
  {
   "cell_type": "code",
   "execution_count": 1,
   "metadata": {},
   "outputs": [
    {
     "name": "stdout",
     "output_type": "stream",
     "text": [
      "0 10000 20000 30000 40000 50000 60000 70000 80000 90000 "
     ]
    },
    {
     "data": {
      "image/png": "[encoded data removed]",
      "text/plain": [
       "<Figure size 640x480 with 1 Axes>"
      ]
     },
     "metadata": {},
     "output_type": "display_data"
    }
   ],
   "source": [
    "\n",
    "from scipy.stats import multivariate_normal, ortho_group\n",
    "import os\n",
    "import shutil\n",
    "import numpy as np\n",
    "import pandas as pd\n",
    "from threading import Thread\n",
    "import matplotlib.pyplot as plt\n",
    "\n",
    "def kernel(z, mu, rho, beta):\n",
    "    f = np.exp(-0.5 * np.sum(np.power(np.abs(z - mu), beta)/rho))\n",
    "    return f\n",
    "\n",
    "def kernel_func(x, a, feat_sub, mu, rho, beta):\n",
    "    f = sum([a[i]*kernel(x[feat_sub[i]], mu[i], rho[i], beta[i]) for i in range(a.shape[0])])\n",
    "    return f + np.random.normal(loc=0.0, scale=0.01)\n",
    "\n",
    "def random_ortho_mat(dim):\n",
    "    if dim == 1:\n",
    "        U = np.array([[1.0]])\n",
    "    else:\n",
    "        U = ortho_group.rvs(dim=dim)\n",
    "    return U\n",
    "\n",
    "def generate_dataset():\n",
    "    dim_feat = 10\n",
    "    n_terms = 1000\n",
    "    \n",
    "    a = np.random.uniform(low=-1.0, high=1.0, size=(n_terms,))\n",
    "\n",
    "    dim_sub = np.minimum(np.floor(1.5 + np.random.exponential(scale=2.0, size=(n_terms,))).astype(int), dim_feat)\n",
    "\n",
    "    feat_sub = [np.random.choice(dim_feat, size=(dim_sub[i],), replace=False) for i in range(n_terms)]\n",
    "    mu = [np.random.normal(loc=0.0, scale=1.0, size=(dim_sub[i],)) for i in range(n_terms)]\n",
    "\n",
    "    '''\n",
    "    squn_samp = np.square(np.random.uniform(low=0.1, high=0.3, size=(10000,)))\n",
    "    gamma_samp = np.random.gamma(2, scale=0.02, size=(10000,))\n",
    "    plt.figure()\n",
    "    plt.hist(gamma_samp, bins=20)\n",
    "    plt.hist(squn_samp, bins=20)\n",
    "    '''\n",
    "\n",
    "    #d = [np.diag(np.square(np.random.uniform(low=0.05, high=0.25, size=(dim_sub[i],)))) for i in range(n_terms)]\n",
    "    #U = [random_ortho_mat(dim_sub[i]) for i in range(n_terms)]\n",
    "    #Sigma = [U[i] @ d[i] @ U[i].T for i in range(n_terms)]\n",
    "\n",
    "    rho = [np.random.gamma(2, scale=0.1, size=(dim_sub[i],)) for i in range(n_terms)]\n",
    "    beta = np.random.uniform(low=0.0, high=2.0, size=(n_terms,))\n",
    "\n",
    "    f = lambda x_: kernel_func(x_, a, feat_sub, mu, rho, beta)\n",
    "\n",
    "    fig = plt.figure()\n",
    "    #ax = fig.add_subplot(111, projection='3d')\n",
    "\n",
    "    n_samples = 100000\n",
    "    sample_list = []\n",
    "    f_list = []\n",
    "\n",
    "    for i in range(n_samples):\n",
    "        xi = np.random.normal(loc=0.0, scale=1.0, size=(dim_feat,))\n",
    "        fi = f(xi)\n",
    "        f_list.append(fi)\n",
    "        sample_list.append([*xi, fi])\n",
    "        #ax.scatter(xi[0], xi[1], fi, color='blue', marker='.')\n",
    "\n",
    "        if i % (n_samples//10) == 0:\n",
    "            print(i, end=' ', flush=True)\n",
    "\n",
    "    plt.hist(f_list, bins=20)\n",
    "    plt.show()\n",
    "    df = pd.DataFrame(sample_list)\n",
    "\n",
    "    if os.path.exists(f'reg_data_n{dim_feat}_s{n_samples}.csv'):\n",
    "        os.remove(f'reg_data_n{dim_feat}_s{n_samples}.csv')\n",
    "    \n",
    "    df.to_csv(f'reg_data_n{dim_feat}_s{n_samples}.csv', header=False, index=False)\n",
    "\n",
    "if __name__ == '__main__':\n",
    "    generate_dataset()"
   ]
  }
 ],
 "metadata": {
  "kernelspec": {
   "display_name": "gcenv",
   "language": "python",
   "name": "python3"
  },
  "language_info": {
   "codemirror_mode": {
    "name": "ipython",
    "version": 3
   },
   "file_extension": ".py",
   "mimetype": "text/x-python",
   "name": "python",
   "nbconvert_exporter": "python",
   "pygments_lexer": "ipython3",
   "version": "3.11.4"
  }
 },
 "nbformat": 4,
 "nbformat_minor": 2
}
