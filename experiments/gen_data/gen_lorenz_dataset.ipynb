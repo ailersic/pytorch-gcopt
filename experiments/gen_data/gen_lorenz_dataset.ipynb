{
 "cells": [
  {
   "cell_type": "code",
   "execution_count": 1,
   "metadata": {},
   "outputs": [],
   "source": [
    "\n",
    "from scipy.integrate import odeint as odeint_scipy\n",
    "import os\n",
    "import shutil\n",
    "import numpy as np\n",
    "import pandas as pd\n",
    "from threading import Thread\n",
    "import matplotlib.pyplot as plt\n",
    "\n",
    "def dlorenz(t, u, sigma, beta, rho):\n",
    "    dudt = np.zeros(3)\n",
    "    dudt[0] = sigma * (u[1] - u[0])\n",
    "    dudt[1] = u[0] * (rho - u[2]) - u[1]\n",
    "    dudt[2] = u[0] * u[1] - beta * u[2]\n",
    "    return dudt\n",
    "\n",
    "def run_lorenz(sigma=10, beta=8/3, rho=28):\n",
    "    nt = 20\n",
    "    T = 2.0\n",
    "    t = np.linspace(0, T, nt)\n",
    "\n",
    "    u0 = 5*np.array([1, 1, 1])\n",
    "\n",
    "    odefunc = lambda u_, t_: dlorenz(t_, u_, sigma, beta, rho)\n",
    "    \n",
    "    ut = odeint_scipy(odefunc, u0, t)\n",
    "\n",
    "    return ut\n",
    "\n",
    "def generate_dataset():\n",
    "    if os.path.exists('lorenz_data'):\n",
    "        shutil.rmtree('lorenz_data')\n",
    "    if os.path.exists('lorenz_params.csv'):\n",
    "        os.remove('lorenz_params.csv')\n",
    "    os.mkdir('lorenz_data')\n",
    "    \n",
    "    param_list = []\n",
    "    sigma = np.linspace(9, 11, 5)\n",
    "    rho = np.linspace(25, 30, 6)\n",
    "    for sigmai in sigma:\n",
    "        for rhoi in rho:\n",
    "            param_list.append([sigmai, rhoi])\n",
    "            ut = run_lorenz(sigma=sigmai, rho=rhoi)\n",
    "            #plt.plot(ut[:,0], ut[:,2])\n",
    "            df = pd.DataFrame(ut)\n",
    "            df.to_csv(f'lorenz_data/{sigmai:0.3f}_{rhoi:0.3f}.csv', header=False, index=False)\n",
    "    pd.DataFrame(param_list, columns=['rho', 'sigma']).to_csv('lorenz_params.csv', index=False)\n",
    "\n",
    "if __name__ == '__main__':\n",
    "    generate_dataset()"
   ]
  }
 ],
 "metadata": {
  "kernelspec": {
   "display_name": "gcenv",
   "language": "python",
   "name": "python3"
  },
  "language_info": {
   "codemirror_mode": {
    "name": "ipython",
    "version": 3
   },
   "file_extension": ".py",
   "mimetype": "text/x-python",
   "name": "python",
   "nbconvert_exporter": "python",
   "pygments_lexer": "ipython3",
   "version": "3.11.4"
  },
  "orig_nbformat": 4
 },
 "nbformat": 4,
 "nbformat_minor": 2
}
