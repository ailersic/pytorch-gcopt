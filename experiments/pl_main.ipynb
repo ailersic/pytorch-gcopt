{
 "cells": [
  {
   "cell_type": "code",
   "execution_count": 1,
   "metadata": {},
   "outputs": [
    {
     "name": "stdout",
     "output_type": "stream",
     "text": [
      "True\n"
     ]
    }
   ],
   "source": [
    "import torch\n",
    "import pytorch_lightning as pl\n",
    "import numpy as np\n",
    "import matplotlib.pyplot as plt\n",
    "from pl_celeba import *\n",
    "\n",
    "print(torch.cuda.is_available())\n",
    "torch.zeros(1).cuda()\n",
    "torch.set_float32_matmul_precision('high')"
   ]
  },
  {
   "cell_type": "code",
   "execution_count": 2,
   "metadata": {},
   "outputs": [],
   "source": [
    "def run_case(hyperparams: list) -> None:\n",
    "    mymodel = CelebAClass(*hyperparams)\n",
    "\n",
    "    # training\n",
    "    logger = pl.loggers.tensorboard.TensorBoardLogger('.', name=f'out_{mymodel.datasetname}_{mymodel.epochs}_' + '_'.join([f'{p:.4f}' for p in hyperparams]))\n",
    "    trainer = pl.Trainer(max_epochs=mymodel.epochs, accelerator='gpu', logger=logger, log_every_n_steps=3)\n",
    "    trainer.fit(mymodel)\n",
    "\n",
    "def sweep_hyperparams(hyperparam_list: list, n_runs: int, hyperparams: list = []) -> None:\n",
    "    if len(hyperparams) == len(hyperparam_list):\n",
    "        for i in range(n_runs):\n",
    "            print('-'*80)\n",
    "            print(f'Running case with hyperparams {hyperparams}')\n",
    "            print('-'*80)\n",
    "\n",
    "            run_case(hyperparams)\n",
    "\n",
    "    else:\n",
    "        for hyperparam_i in hyperparam_list[len(hyperparams)]:\n",
    "            new_hyperparams = hyperparams + [hyperparam_i]\n",
    "            sweep_hyperparams(hyperparam_list, n_runs, new_hyperparams)\n",
    "    "
   ]
  },
  {
   "cell_type": "code",
   "execution_count": 3,
   "metadata": {},
   "outputs": [
    {
     "name": "stdout",
     "output_type": "stream",
     "text": [
      "--------------------------------------------------------------------------------\n",
      "Running case with hyperparams [0.0001, 0.01, 0.0, 1]\n",
      "--------------------------------------------------------------------------------\n",
      "Files already downloaded and verified\n"
     ]
    },
    {
     "name": "stderr",
     "output_type": "stream",
     "text": [
      "GPU available: True (cuda), used: True\n",
      "TPU available: False, using: 0 TPU cores\n",
      "IPU available: False, using: 0 IPUs\n",
      "HPU available: False, using: 0 HPUs\n",
      "Missing logger folder: ./out_CelebA_20_0.0001_0.0100_0.0000_1.0000\n",
      "LOCAL_RANK: 0 - CUDA_VISIBLE_DEVICES: [0]\n",
      "\n",
      "  | Name | Type   | Params\n",
      "--------------------------------\n",
      "0 | net  | ResNet | 11.2 M\n",
      "--------------------------------\n",
      "11.2 M    Trainable params\n",
      "0         Non-trainable params\n",
      "11.2 M    Total params\n",
      "44.727    Total estimated model params size (MB)\n"
     ]
    },
    {
     "name": "stdout",
     "output_type": "stream",
     "text": [
      "Epoch 7:  84%|████████▍ | 966/1145 [01:36<00:17, 10.04it/s, v_num=0, contvar=3.59e-8, train_loss=0.511, val_loss=0.788] "
     ]
    }
   ],
   "source": [
    "def main() -> None:\n",
    "    # model hyperparameters\n",
    "    cont_var0 = [1e-4]\n",
    "    cont_lr = [1e-2]\n",
    "    cont_reg = [0.0]\n",
    "    warmup_epochs = [1]\n",
    "    n_runs = 5\n",
    "\n",
    "    hyperparam_list = [cont_var0, cont_lr, cont_reg, warmup_epochs]\n",
    "    sweep_hyperparams(hyperparam_list, n_runs)\n",
    "\n",
    "if __name__ == \"__main__\":\n",
    "    main()"
   ]
  }
 ],
 "metadata": {
  "kernelspec": {
   "display_name": "gcenv",
   "language": "python",
   "name": "python3"
  },
  "language_info": {
   "codemirror_mode": {
    "name": "ipython",
    "version": 3
   },
   "file_extension": ".py",
   "mimetype": "text/x-python",
   "name": "python",
   "nbconvert_exporter": "python",
   "pygments_lexer": "ipython3",
   "version": "3.11.4"
  }
 },
 "nbformat": 4,
 "nbformat_minor": 2
}
