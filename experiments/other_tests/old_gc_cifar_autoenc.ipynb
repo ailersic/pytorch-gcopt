{
 "cells": [
  {
   "cell_type": "code",
   "execution_count": 1,
   "metadata": {},
   "outputs": [
    {
     "name": "stdout",
     "output_type": "stream",
     "text": [
      "True\n"
     ]
    }
   ],
   "source": [
    "\n",
    "import torch\n",
    "from torch import nn\n",
    "from torch.func import functional_call, grad\n",
    "from torch.nn import functional as F\n",
    "from torch.utils.data import DataLoader\n",
    "from torch.utils.data import random_split\n",
    "from torchvision.datasets import CIFAR10\n",
    "from torchvision import transforms\n",
    "import pytorch_lightning as pl\n",
    "import os\n",
    "import numpy as np\n",
    "from threading import Thread\n",
    "\n",
    "from gc_module import ContNet\n",
    "\n",
    "print(torch.cuda.is_available())\n",
    "torch.zeros(1).cuda()\n",
    "torch.set_float32_matmul_precision('high')"
   ]
  },
  {
   "cell_type": "code",
   "execution_count": 2,
   "metadata": {},
   "outputs": [],
   "source": [
    "\n",
    "class CIFARClass(ContNet):\n",
    "    def __init__(self, loglambda0: float, cont_lr: float, cont_reg: float, warmup_epochs: int):\n",
    "        super().__init__(loglambda0, cont_lr, cont_reg, warmup_epochs)\n",
    "        self.lossfunc = F.mse_loss\n",
    "\n",
    "        self.dataset = CIFAR10(os.getcwd(), download=True, transform=transforms.ToTensor())\n",
    "        size_train = int(len(self.dataset)*0.9)\n",
    "        self.data_train, self.data_val = random_split(self.dataset, [size_train, len(self.dataset) - size_train])\n",
    "\n",
    "        encdim = 512\n",
    "\n",
    "        activ = nn.ReLU()\n",
    "        self.net = nn.Sequential(\n",
    "                                nn.Conv2d(3, 16, 3, padding=1, stride=2), activ,\n",
    "                                nn.Conv2d(16, 32, 3, padding=1, stride=2), activ,\n",
    "                                nn.Conv2d(32, 64, 3, padding=1, stride=2), activ,\n",
    "                                nn.Conv2d(64, 128, 3, padding=1, stride=2), activ,\n",
    "                                nn.Flatten(start_dim=1),\n",
    "                                nn.Linear(512, encdim),\n",
    "                                nn.Linear(encdim, 512),\n",
    "                                nn.Unflatten(1, (128, 2, 2)), activ,\n",
    "                                nn.ConvTranspose2d(128, 64, 3, padding=1, output_padding=1, stride=2), activ,\n",
    "                                nn.ConvTranspose2d(64, 32, 3, padding=1, output_padding=1, stride=2), activ,\n",
    "                                nn.ConvTranspose2d(32, 16, 3, padding=1, output_padding=1, stride=2), activ,\n",
    "                                nn.ConvTranspose2d(16, 3, 3, padding=1, output_padding=1, stride=2), nn.Sigmoid()\n",
    "                                )\n",
    "        \n",
    "        for layer in self.net.modules():\n",
    "            if isinstance(layer, nn.Linear) or isinstance(layer, nn.Conv2d):\n",
    "                nn.init.xavier_uniform_(layer.weight)\n",
    "                nn.init.zeros_(layer.bias)\n",
    "\n",
    "        self.init_params = self.state_dict()\n",
    "\n",
    "    def forward(self, x):\n",
    "        xrec = self.net(x)\n",
    "        return xrec\n",
    "    \n",
    "    def configure_optimizers(self):\n",
    "        # include logcontvar in optimizer\n",
    "        optimizer = torch.optim.Adam([{'params': self.net.parameters()},\n",
    "                                      {'params': (self.logcontvar,), 'lr': self.cont_lr}],\n",
    "                                     lr=1e-4)\n",
    "        return optimizer\n",
    "\n",
    "    def training_step(self, train_batch, batch_idx):\n",
    "        self.log('param_norm', sum(p.pow(2.0).sum() for p in self.parameters()))\n",
    "        \n",
    "        opt = self.optimizers()\n",
    "        opt.zero_grad()\n",
    "\n",
    "        # add gaussian noise to parameters\n",
    "        rand_samp, ref_params = self.perturb_params()\n",
    "        \n",
    "        # compute loss\n",
    "        x, y = train_batch\n",
    "        xrec = self.forward(x)\n",
    "        #param_norm = torch.norm(torch.cat([(p.view(-1) - self.init_params[pname].to(self.device).view(-1)) for pname, p in self.named_parameters()]))\n",
    "        func_loss = self.lossfunc(xrec, x)\n",
    "        #reg_loss = torch.exp(self.logcontvar) * self.cont_reg * param_norm\n",
    "        loss = func_loss# + reg_loss\n",
    "        self.manual_backward(loss)\n",
    "\n",
    "        # compute contvar gradient\n",
    "        self.contvar_grad(rand_samp, loss)\n",
    "        \n",
    "        # reload reference parameters\n",
    "        self.load_state_dict(ref_params)\n",
    "\n",
    "        opt.step()\n",
    "        self.log('train_loss', func_loss.detach())\n",
    "\n",
    "    def validation_step(self, val_batch, batch_idx):\n",
    "        x, y = val_batch\n",
    "        xrec = self.net(x)\n",
    "\n",
    "        loss = self.lossfunc(xrec, x)\n",
    "        self.log('val_loss', loss)\n",
    "    \n",
    "    def train_dataloader(self):\n",
    "        return DataLoader(self.data_train, batch_size=250, shuffle=True, num_workers=16, persistent_workers=True)\n",
    "        \n",
    "    def val_dataloader(self):\n",
    "        return DataLoader(self.data_val, batch_size=250, num_workers=16, persistent_workers=True)\n"
   ]
  },
  {
   "cell_type": "code",
   "execution_count": 3,
   "metadata": {},
   "outputs": [],
   "source": [
    "def run_case(hyperparams: list) -> None:\n",
    "    mymodel = CIFARClass(*hyperparams)\n",
    "\n",
    "    # training\n",
    "    epochs = 50\n",
    "    logger = pl.loggers.tensorboard.TensorBoardLogger('.', name=f'cifar10_aenc_{epochs}_' + '_'.join([f'{p}' for p in hyperparams]))\n",
    "    trainer = pl.Trainer(max_epochs=epochs, accelerator='gpu', logger=logger)\n",
    "    trainer.fit(mymodel)\n",
    "\n",
    "def sweep_hyperparams(hyperparam_list: list, n_runs: int, hyperparams: list = []) -> None:\n",
    "    if len(hyperparams) == len(hyperparam_list):\n",
    "        for i in range(n_runs):\n",
    "            print('-'*80)\n",
    "            print(f'Running case with hyperparams {hyperparams}')\n",
    "            print('-'*80)\n",
    "\n",
    "            run_case(hyperparams)\n",
    "\n",
    "    else:\n",
    "        for hyperparam_i in hyperparam_list[len(hyperparams)]:\n",
    "            new_hyperparams = hyperparams + [hyperparam_i]\n",
    "            sweep_hyperparams(hyperparam_list, n_runs, new_hyperparams)\n",
    "    "
   ]
  },
  {
   "cell_type": "code",
   "execution_count": 4,
   "metadata": {},
   "outputs": [
    {
     "name": "stdout",
     "output_type": "stream",
     "text": [
      "--------------------------------------------------------------------------------\n",
      "Running case with hyperparams [-9.210340371976182, 0.01, 0.0, -1]\n",
      "--------------------------------------------------------------------------------\n",
      "Files already downloaded and verified\n"
     ]
    },
    {
     "name": "stderr",
     "output_type": "stream",
     "text": [
      "GPU available: True (cuda), used: True\n",
      "TPU available: False, using: 0 TPU cores\n",
      "IPU available: False, using: 0 IPUs\n",
      "HPU available: False, using: 0 HPUs\n",
      "LOCAL_RANK: 0 - CUDA_VISIBLE_DEVICES: [0]\n",
      "\n",
      "  | Name | Type       | Params\n",
      "------------------------------------\n",
      "0 | net  | Sequential | 720 K \n",
      "------------------------------------\n",
      "720 K     Trainable params\n",
      "0         Non-trainable params\n",
      "720 K     Total params\n",
      "2.880     Total estimated model params size (MB)\n"
     ]
    },
    {
     "name": "stdout",
     "output_type": "stream",
     "text": [
      "                                                                           \r"
     ]
    },
    {
     "name": "stderr",
     "output_type": "stream",
     "text": [
      "/home/andrew/miniconda3/envs/gcenv/lib/python3.11/site-packages/torch/nn/modules/conv.py:459: UserWarning: Applied workaround for CuDNN issue, install nvrtc.so (Triggered internally at /opt/conda/conda-bld/pytorch_1682343995622/work/aten/src/ATen/native/cudnn/Conv_v8.cpp:80.)\n",
      "  return F.conv2d(input, weight, bias, self.stride,\n"
     ]
    },
    {
     "name": "stdout",
     "output_type": "stream",
     "text": [
      "Epoch 49: 100%|██████████| 180/180 [00:03<00:00, 46.65it/s, v_num=5]"
     ]
    },
    {
     "name": "stderr",
     "output_type": "stream",
     "text": [
      "`Trainer.fit` stopped: `max_epochs=50` reached.\n"
     ]
    },
    {
     "name": "stdout",
     "output_type": "stream",
     "text": [
      "Epoch 49: 100%|██████████| 180/180 [00:03<00:00, 46.27it/s, v_num=5]\n",
      "--------------------------------------------------------------------------------\n",
      "Running case with hyperparams [-9.210340371976182, 0.01, 0.0, -1]\n",
      "--------------------------------------------------------------------------------\n",
      "Files already downloaded and verified\n"
     ]
    },
    {
     "name": "stderr",
     "output_type": "stream",
     "text": [
      "GPU available: True (cuda), used: True\n",
      "TPU available: False, using: 0 TPU cores\n",
      "IPU available: False, using: 0 IPUs\n",
      "HPU available: False, using: 0 HPUs\n",
      "LOCAL_RANK: 0 - CUDA_VISIBLE_DEVICES: [0]\n",
      "\n",
      "  | Name | Type       | Params\n",
      "------------------------------------\n",
      "0 | net  | Sequential | 720 K \n",
      "------------------------------------\n",
      "720 K     Trainable params\n",
      "0         Non-trainable params\n",
      "720 K     Total params\n",
      "2.880     Total estimated model params size (MB)\n"
     ]
    },
    {
     "name": "stdout",
     "output_type": "stream",
     "text": [
      "Epoch 49: 100%|██████████| 180/180 [00:03<00:00, 48.90it/s, v_num=6]        "
     ]
    },
    {
     "name": "stderr",
     "output_type": "stream",
     "text": [
      "`Trainer.fit` stopped: `max_epochs=50` reached.\n"
     ]
    },
    {
     "name": "stdout",
     "output_type": "stream",
     "text": [
      "Epoch 49: 100%|██████████| 180/180 [00:03<00:00, 48.50it/s, v_num=6]\n",
      "--------------------------------------------------------------------------------\n",
      "Running case with hyperparams [-9.210340371976182, 0.01, 0.0, -1]\n",
      "--------------------------------------------------------------------------------\n",
      "Files already downloaded and verified\n"
     ]
    },
    {
     "name": "stderr",
     "output_type": "stream",
     "text": [
      "GPU available: True (cuda), used: True\n",
      "TPU available: False, using: 0 TPU cores\n",
      "IPU available: False, using: 0 IPUs\n",
      "HPU available: False, using: 0 HPUs\n",
      "LOCAL_RANK: 0 - CUDA_VISIBLE_DEVICES: [0]\n",
      "\n",
      "  | Name | Type       | Params\n",
      "------------------------------------\n",
      "0 | net  | Sequential | 720 K \n",
      "------------------------------------\n",
      "720 K     Trainable params\n",
      "0         Non-trainable params\n",
      "720 K     Total params\n",
      "2.880     Total estimated model params size (MB)\n"
     ]
    },
    {
     "name": "stdout",
     "output_type": "stream",
     "text": [
      "Epoch 49: 100%|██████████| 180/180 [00:03<00:00, 47.07it/s, v_num=7]        "
     ]
    },
    {
     "name": "stderr",
     "output_type": "stream",
     "text": [
      "`Trainer.fit` stopped: `max_epochs=50` reached.\n"
     ]
    },
    {
     "name": "stdout",
     "output_type": "stream",
     "text": [
      "Epoch 49: 100%|██████████| 180/180 [00:03<00:00, 46.71it/s, v_num=7]\n",
      "--------------------------------------------------------------------------------\n",
      "Running case with hyperparams [-9.210340371976182, 0.01, 0.0, -1]\n",
      "--------------------------------------------------------------------------------\n",
      "Files already downloaded and verified\n"
     ]
    },
    {
     "name": "stderr",
     "output_type": "stream",
     "text": [
      "GPU available: True (cuda), used: True\n",
      "TPU available: False, using: 0 TPU cores\n",
      "IPU available: False, using: 0 IPUs\n",
      "HPU available: False, using: 0 HPUs\n",
      "LOCAL_RANK: 0 - CUDA_VISIBLE_DEVICES: [0]\n",
      "\n",
      "  | Name | Type       | Params\n",
      "------------------------------------\n",
      "0 | net  | Sequential | 720 K \n",
      "------------------------------------\n",
      "720 K     Trainable params\n",
      "0         Non-trainable params\n",
      "720 K     Total params\n",
      "2.880     Total estimated model params size (MB)\n"
     ]
    },
    {
     "name": "stdout",
     "output_type": "stream",
     "text": [
      "Epoch 49: 100%|██████████| 180/180 [00:03<00:00, 47.04it/s, v_num=8]        "
     ]
    },
    {
     "name": "stderr",
     "output_type": "stream",
     "text": [
      "`Trainer.fit` stopped: `max_epochs=50` reached.\n"
     ]
    },
    {
     "name": "stdout",
     "output_type": "stream",
     "text": [
      "Epoch 49: 100%|██████████| 180/180 [00:03<00:00, 46.68it/s, v_num=8]\n",
      "--------------------------------------------------------------------------------\n",
      "Running case with hyperparams [-9.210340371976182, 0.01, 0.0, -1]\n",
      "--------------------------------------------------------------------------------\n",
      "Files already downloaded and verified\n"
     ]
    },
    {
     "name": "stderr",
     "output_type": "stream",
     "text": [
      "GPU available: True (cuda), used: True\n",
      "TPU available: False, using: 0 TPU cores\n",
      "IPU available: False, using: 0 IPUs\n",
      "HPU available: False, using: 0 HPUs\n",
      "LOCAL_RANK: 0 - CUDA_VISIBLE_DEVICES: [0]\n",
      "\n",
      "  | Name | Type       | Params\n",
      "------------------------------------\n",
      "0 | net  | Sequential | 720 K \n",
      "------------------------------------\n",
      "720 K     Trainable params\n",
      "0         Non-trainable params\n",
      "720 K     Total params\n",
      "2.880     Total estimated model params size (MB)\n"
     ]
    },
    {
     "name": "stdout",
     "output_type": "stream",
     "text": [
      "Epoch 49: 100%|██████████| 180/180 [00:03<00:00, 47.96it/s, v_num=9]        "
     ]
    },
    {
     "name": "stderr",
     "output_type": "stream",
     "text": [
      "`Trainer.fit` stopped: `max_epochs=50` reached.\n"
     ]
    },
    {
     "name": "stdout",
     "output_type": "stream",
     "text": [
      "Epoch 49: 100%|██████████| 180/180 [00:03<00:00, 47.59it/s, v_num=9]\n"
     ]
    }
   ],
   "source": [
    "def main() -> None:\n",
    "    # model\n",
    "    loglambda0 = [np.log(1e-4)]#, float('nan')]\n",
    "    cont_lr = [1e-2]\n",
    "    cont_reg = [0.0]\n",
    "    warmup_epochs = [-1]\n",
    "    n_runs = 5\n",
    "\n",
    "    hyperparam_list = [loglambda0, cont_lr, cont_reg, warmup_epochs]\n",
    "    sweep_hyperparams(hyperparam_list, n_runs)\n",
    "\n",
    "if __name__ == \"__main__\":\n",
    "    main()"
   ]
  }
 ],
 "metadata": {
  "kernelspec": {
   "display_name": "gcenv",
   "language": "python",
   "name": "python3"
  },
  "language_info": {
   "codemirror_mode": {
    "name": "ipython",
    "version": 3
   },
   "file_extension": ".py",
   "mimetype": "text/x-python",
   "name": "python",
   "nbconvert_exporter": "python",
   "pygments_lexer": "ipython3",
   "version": "3.11.4"
  },
  "orig_nbformat": 4
 },
 "nbformat": 4,
 "nbformat_minor": 2
}
