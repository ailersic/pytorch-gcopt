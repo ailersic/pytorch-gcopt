{
 "cells": [
  {
   "cell_type": "code",
   "execution_count": 1,
   "metadata": {},
   "outputs": [
    {
     "name": "stdout",
     "output_type": "stream",
     "text": [
      "True\n"
     ]
    }
   ],
   "source": [
    "\n",
    "import torch\n",
    "from torch import nn\n",
    "from torch.func import functional_call, grad\n",
    "from torch.nn import functional as F\n",
    "from torch.utils.data import DataLoader\n",
    "from torch.utils.data import random_split\n",
    "from torchvision.datasets import *\n",
    "from torchvision import transforms\n",
    "import pytorch_lightning as pl\n",
    "import os\n",
    "from threading import Thread\n",
    "\n",
    "from mcdiff_module import MCDiffNet\n",
    "\n",
    "print(torch.cuda.is_available())\n",
    "torch.zeros(1).cuda()\n",
    "torch.set_float32_matmul_precision('high')"
   ]
  },
  {
   "cell_type": "code",
   "execution_count": 2,
   "metadata": {},
   "outputs": [],
   "source": [
    "\n",
    "class MNISTClass(MCDiffNet):\n",
    "    def __init__(self, sigma, n_mc):\n",
    "        super().__init__(sigma, n_mc)\n",
    "\n",
    "        activ = nn.LeakyReLU()\n",
    "        self.net = nn.Sequential(nn.Flatten(start_dim=1),\n",
    "                                nn.Linear(784, 50), activ,\n",
    "                                nn.Linear(50, 50), activ,\n",
    "                                nn.Linear(50, 10),\n",
    "                                nn.Softmax(dim=1)\n",
    "                                )\n",
    "        \n",
    "        for layer in self.net.modules():\n",
    "            if isinstance(layer, nn.Linear) or isinstance(layer, nn.Conv2d):\n",
    "                nn.init.xavier_uniform_(layer.weight)\n",
    "                nn.init.zeros_(layer.bias)\n",
    "\n",
    "        self.lossfunc = F.cross_entropy\n",
    "\n",
    "    def forward(self, x):\n",
    "        ypred = self.net(x)\n",
    "        return ypred\n",
    "    \n",
    "    def configure_optimizers(self):\n",
    "        optimizer = torch.optim.Adam(self.parameters(), lr=1e-5)\n",
    "        return optimizer\n",
    "    \n",
    "    # training_step already defined\n",
    "\n",
    "    def validation_step(self, val_batch, batch_idx):\n",
    "        x, y = val_batch\n",
    "        ypred = self.net(x)\n",
    "\n",
    "        loss = self.lossfunc(ypred, y)\n",
    "        self.log('val_loss', loss)\n",
    "        \n",
    "        match = torch.eq(y, torch.argmax(ypred, dim=1))\n",
    "        acc = torch.sum(match)/y.shape[0]\n",
    "        self.log('val_acc', acc)\n"
   ]
  },
  {
   "cell_type": "code",
   "execution_count": 3,
   "metadata": {},
   "outputs": [],
   "source": [
    "def run_case(hyperparams: list, train_loader: DataLoader, val_loader: DataLoader) -> None:\n",
    "    mymodel = MNISTClass(*hyperparams).cuda()\n",
    "\n",
    "    # training\n",
    "    logger = pl.loggers.tensorboard.TensorBoardLogger('.', name='mcdiff_mnist_' + '_'.join([f'{p}' for p in hyperparams]))\n",
    "    trainer = pl.Trainer(max_epochs=25, accelerator='auto', logger=logger)#gpus=4, num_nodes=8, precision=16, limit_train_batches=0.5)\n",
    "    trainer.fit(mymodel, train_loader, val_loader)\n",
    "\n",
    "def sweep_hyperparams(hyperparam_list: list, train_loader: DataLoader, val_loader: DataLoader, n_runs: int, hyperparams: list = []) -> None:\n",
    "    if len(hyperparams) == len(hyperparam_list):\n",
    "        for i in range(n_runs):\n",
    "            print('-'*80)\n",
    "            print(f'Running case with hyperparams {hyperparams}')\n",
    "            print('-'*80)\n",
    "\n",
    "            run_case(hyperparams, train_loader, val_loader)\n",
    "\n",
    "    else:\n",
    "        for hyperparam_i in hyperparam_list[len(hyperparams)]:\n",
    "            new_hyperparams = hyperparams + [hyperparam_i]\n",
    "            sweep_hyperparams(hyperparam_list, train_loader, val_loader, n_runs, new_hyperparams)\n",
    "    "
   ]
  },
  {
   "cell_type": "code",
   "execution_count": 4,
   "metadata": {},
   "outputs": [
    {
     "name": "stderr",
     "output_type": "stream",
     "text": [
      "GPU available: True (cuda), used: True\n",
      "TPU available: False, using: 0 TPU cores\n",
      "IPU available: False, using: 0 IPUs\n",
      "HPU available: False, using: 0 HPUs\n"
     ]
    },
    {
     "name": "stdout",
     "output_type": "stream",
     "text": [
      "--------------------------------------------------------------------------------\n",
      "Running case with hyperparams [0.0001, 10000]\n",
      "--------------------------------------------------------------------------------\n"
     ]
    },
    {
     "name": "stderr",
     "output_type": "stream",
     "text": [
      "Missing logger folder: ./mcdiff_mnist_0.0001_10000\n",
      "LOCAL_RANK: 0 - CUDA_VISIBLE_DEVICES: [0]\n",
      "\n",
      "  | Name | Type       | Params\n",
      "------------------------------------\n",
      "0 | net  | Sequential | 42.3 K\n",
      "------------------------------------\n",
      "42.3 K    Trainable params\n",
      "0         Non-trainable params\n",
      "42.3 K    Total params\n",
      "0.169     Total estimated model params size (MB)\n"
     ]
    },
    {
     "name": "stdout",
     "output_type": "stream",
     "text": [
      "Epoch 3:  96%|█████████▌| 344/360 [2:19:51<06:30, 24.39s/it, v_num=0]      "
     ]
    },
    {
     "name": "stderr",
     "output_type": "stream",
     "text": [
      "/home/andrew/miniconda3/envs/gcenv/lib/python3.11/site-packages/pytorch_lightning/trainer/call.py:52: UserWarning: Detected KeyboardInterrupt, attempting graceful shutdown...\n",
      "  rank_zero_warn(\"Detected KeyboardInterrupt, attempting graceful shutdown...\")\n"
     ]
    }
   ],
   "source": [
    "def main() -> None:\n",
    "    # data\n",
    "    dataset = MNIST(os.getcwd(), download=True, transform=transforms.ToTensor())\n",
    "    size_train = int(len(dataset)*0.9)\n",
    "    data_train, data_val = random_split(dataset, [size_train, len(dataset) - size_train])\n",
    "\n",
    "    train_loader = DataLoader(data_train, batch_size=150, num_workers=48)\n",
    "    val_loader = DataLoader(data_val, batch_size=150, num_workers=48)\n",
    "\n",
    "    # model\n",
    "    lambda0 = [1e-4]\n",
    "    n_mc = [10000]\n",
    "    n_runs = 1\n",
    "\n",
    "    hyperparam_list = [lambda0, n_mc]\n",
    "    sweep_hyperparams(hyperparam_list, train_loader, val_loader, n_runs)\n",
    "\n",
    "if __name__ == \"__main__\":\n",
    "    main()"
   ]
  }
 ],
 "metadata": {
  "kernelspec": {
   "display_name": "gcenv",
   "language": "python",
   "name": "python3"
  },
  "language_info": {
   "codemirror_mode": {
    "name": "ipython",
    "version": 3
   },
   "file_extension": ".py",
   "mimetype": "text/x-python",
   "name": "python",
   "nbconvert_exporter": "python",
   "pygments_lexer": "ipython3",
   "version": "3.11.4"
  },
  "orig_nbformat": 4
 },
 "nbformat": 4,
 "nbformat_minor": 2
}
