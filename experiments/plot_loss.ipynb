{
 "cells": [
  {
   "cell_type": "code",
   "execution_count": 24,
   "metadata": {},
   "outputs": [
    {
     "name": "stdout",
     "output_type": "stream",
     "text": [
      "0.10835066666666665 0.16249833333333333\n",
      "0.1096745 0.16436699999999999\n"
     ]
    }
   ],
   "source": [
    "from matplotlib import pyplot as plt\n",
    "import numpy as np\n",
    "\n",
    "import pandas as pd\n",
    "\n",
    "def calc_means(filename):\n",
    "    df = pd.read_csv(filename)\n",
    "    mean_train = df.iloc[:, 0].mean()\n",
    "    mean_test = df.iloc[:, 1].mean()\n",
    "    return mean_train, mean_test\n",
    "\n",
    "for filename in ['res_nan_5.0e-01_0.txt', 'res_1.0e-06_5.0e-01_0.txt']:\n",
    "    mean_train, mean_test = calc_means(filename)\n",
    "    print(mean_train, mean_test)"
   ]
  }
 ],
 "metadata": {
  "kernelspec": {
   "display_name": "gcenv",
   "language": "python",
   "name": "python3"
  },
  "language_info": {
   "codemirror_mode": {
    "name": "ipython",
    "version": 3
   },
   "file_extension": ".py",
   "mimetype": "text/x-python",
   "name": "python",
   "nbconvert_exporter": "python",
   "pygments_lexer": "ipython3",
   "version": "3.11.4"
  }
 },
 "nbformat": 4,
 "nbformat_minor": 2
}
