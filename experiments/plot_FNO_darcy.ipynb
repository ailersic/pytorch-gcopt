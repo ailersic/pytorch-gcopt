{
  "cells": [
    {
      "cell_type": "markdown",
      "metadata": {},
      "source": [
        "\n",
        "# Training a TFNO on Darcy-Flow\n",
        "\n",
        "In this example, we demonstrate how to use the small Darcy-Flow example we ship with the package\n",
        "to train a Tensorized Fourier-Neural Operator\n"
      ]
    },
    {
      "cell_type": "code",
      "execution_count": 1,
      "metadata": {
        "collapsed": false
      },
      "outputs": [],
      "source": [
        "import torch\n",
        "import matplotlib.pyplot as plt\n",
        "import sys\n",
        "from neuralop.models import TFNO\n",
        "from neuralop import Trainer\n",
        "from neuralop.datasets import load_darcy_flow_small\n",
        "from neuralop.utils import count_model_params\n",
        "from neuralop import LpLoss, H1Loss\n",
        "\n",
        "from gc_src.gc_opt import GCOptimizer, WarmupScheduler\n",
        "\n",
        "device = 'cuda:0'"
      ]
    },
    {
      "cell_type": "markdown",
      "metadata": {},
      "source": [
        "Loading the Navier-Stokes dataset in 128x128 resolution\n",
        "\n"
      ]
    },
    {
      "cell_type": "code",
      "execution_count": 2,
      "metadata": {
        "collapsed": false
      },
      "outputs": [
        {
          "name": "stdout",
          "output_type": "stream",
          "text": [
            "Loading test db at resolution 32 with 50 samples and batch-size=32\n"
          ]
        }
      ],
      "source": [
        "train_loader, test_loaders, data_processor = load_darcy_flow_small(\n",
        "        n_train=5000, batch_size=32, \n",
        "        test_resolutions=[16, 32], n_tests=[100, 50],\n",
        "        test_batch_sizes=[32, 32],\n",
        "        positional_encoding=True\n",
        ")\n",
        "data_processor = data_processor.to(device)"
      ]
    },
    {
      "cell_type": "markdown",
      "metadata": {},
      "source": [
        "We create a tensorized FNO model\n",
        "\n"
      ]
    },
    {
      "cell_type": "code",
      "execution_count": 3,
      "metadata": {
        "collapsed": false
      },
      "outputs": [
        {
          "name": "stdout",
          "output_type": "stream",
          "text": [
            "\n",
            "Our model has 7509017 parameters.\n"
          ]
        }
      ],
      "source": [
        "model = TFNO(n_modes=(64, 64), hidden_channels=32, projection_channels=64, factorization='tucker', rank=0.42)\n",
        "model = model.to(device)\n",
        "\n",
        "n_params = count_model_params(model)\n",
        "print(f'\\nOur model has {n_params} parameters.')\n",
        "sys.stdout.flush()"
      ]
    },
    {
      "cell_type": "markdown",
      "metadata": {},
      "source": [
        "Create the optimizer\n",
        "\n"
      ]
    },
    {
      "cell_type": "code",
      "execution_count": 4,
      "metadata": {
        "collapsed": false
      },
      "outputs": [],
      "source": [
        "base_optimizer = torch.optim.Adam(model.parameters(), \n",
        "                                lr=8e-3, \n",
        "                                weight_decay=1e-4)\n",
        "scheduler = torch.optim.lr_scheduler.CosineAnnealingLR(base_optimizer, T_max=99999999)\n",
        "#contvar0 = float('nan')\n",
        "contvar0 = 1e-5\n",
        "contlr = 5e-1\n",
        "warmup = 5\n",
        "optimizer = GCOptimizer(base_optimizer, cont_var0 = contvar0, cont_lr = contlr)\n",
        "warmupscheduler = WarmupScheduler(optimizer, warmup_epochs = warmup)\n",
        "\n",
        "# n-modes = (32, 32)\n",
        "# nan - 0.114 0.0996 0.0807 0.0996 0.0708 0.0863 0.0861 0.123 0.0667 0.0740 - 0.0901\n",
        "# 1e-6 wu 0 lr 5e-2 - 0.0890 0.0722 0.0952 0.0835 0.0905 0.0854 0.0644 0.105 0.0824 0.0612 - 0.0829\n",
        "# 1e-6 wu 0 lr 1e-1 - 0.0668 0.0719 0.0948 0.0771 0.0957 0.0751 0.102 0.0804 0.0912 0.0709 - 0.0826"
      ]
    },
    {
      "cell_type": "markdown",
      "metadata": {},
      "source": [
        "Creating the losses\n",
        "\n"
      ]
    },
    {
      "cell_type": "code",
      "execution_count": 5,
      "metadata": {
        "collapsed": false
      },
      "outputs": [],
      "source": [
        "l2loss = LpLoss(d=2, p=2)\n",
        "h1loss = H1Loss(d=2)\n",
        "\n",
        "train_loss = h1loss\n",
        "eval_losses={'h1': h1loss, 'l2': l2loss}"
      ]
    },
    {
      "cell_type": "code",
      "execution_count": 6,
      "metadata": {
        "collapsed": false
      },
      "outputs": [
        {
          "name": "stdout",
          "output_type": "stream",
          "text": [
            "\n",
            "### MODEL ###\n",
            " TFNO(\n",
            "  (fno_blocks): FNOBlocks(\n",
            "    (convs): SpectralConv(\n",
            "      (weight): ModuleList(\n",
            "        (0-3): 4 x ComplexTuckerTensor(shape=(32, 32, 64, 33), rank=(26, 26, 51, 27))\n",
            "      )\n",
            "    )\n",
            "    (fno_skips): ModuleList(\n",
            "      (0-3): 4 x Conv2d(32, 32, kernel_size=(1, 1), stride=(1, 1), bias=False)\n",
            "    )\n",
            "  )\n",
            "  (lifting): MLP(\n",
            "    (fcs): ModuleList(\n",
            "      (0): Conv2d(3, 256, kernel_size=(1, 1), stride=(1, 1))\n",
            "      (1): Conv2d(256, 32, kernel_size=(1, 1), stride=(1, 1))\n",
            "    )\n",
            "  )\n",
            "  (projection): MLP(\n",
            "    (fcs): ModuleList(\n",
            "      (0): Conv2d(32, 64, kernel_size=(1, 1), stride=(1, 1))\n",
            "      (1): Conv2d(64, 1, kernel_size=(1, 1), stride=(1, 1))\n",
            "    )\n",
            "  )\n",
            ")\n",
            "\n",
            "### OPTIMIZER ###\n",
            " GCOptimizer (\n",
            "Parameter Group 0\n",
            "    amsgrad: False\n",
            "    betas: (0.9, 0.999)\n",
            "    capturable: False\n",
            "    differentiable: False\n",
            "    eps: 1e-08\n",
            "    foreach: None\n",
            "    fused: None\n",
            "    initial_lr: 0.008\n",
            "    lr: 0.008\n",
            "    maximize: False\n",
            "    weight_decay: 0.0001\n",
            ")\n",
            "\n",
            "### SCHEDULER ###\n",
            " <torch.optim.lr_scheduler.CosineAnnealingLR object at 0x7fb5f1107190>\n",
            "\n",
            "### LOSSES ###\n",
            "\n",
            " * Train: <neuralop.losses.data_losses.H1Loss object at 0x7fb5f8f1a290>\n",
            "\n",
            " * Test: {'h1': <neuralop.losses.data_losses.H1Loss object at 0x7fb5f8f1a290>, 'l2': <neuralop.losses.data_losses.LpLoss object at 0x7fb5f8f1a310>}\n"
          ]
        }
      ],
      "source": [
        "print('\\n### MODEL ###\\n', model)\n",
        "print('\\n### OPTIMIZER ###\\n', optimizer)\n",
        "print('\\n### SCHEDULER ###\\n', scheduler)\n",
        "print('\\n### LOSSES ###')\n",
        "print(f'\\n * Train: {train_loss}')\n",
        "print(f'\\n * Test: {eval_losses}')\n",
        "sys.stdout.flush()"
      ]
    },
    {
      "cell_type": "markdown",
      "metadata": {},
      "source": [
        "Create the trainer\n",
        "\n"
      ]
    },
    {
      "cell_type": "code",
      "execution_count": 7,
      "metadata": {
        "collapsed": false
      },
      "outputs": [
        {
          "name": "stdout",
          "output_type": "stream",
          "text": [
            "self.override_load_to_device=False\n",
            "self.overrides_loss=False\n"
          ]
        }
      ],
      "source": [
        "trainer = Trainer(model=model, n_epochs=50,\n",
        "                  device=device,\n",
        "                  data_processor=data_processor,\n",
        "                  wandb_log=False,\n",
        "                  log_test_interval=3,\n",
        "                  use_distributed=False,\n",
        "                  verbose=True)"
      ]
    },
    {
      "cell_type": "markdown",
      "metadata": {},
      "source": [
        "Actually train the model on our small Darcy-Flow dataset\n",
        "\n"
      ]
    },
    {
      "cell_type": "code",
      "execution_count": 8,
      "metadata": {
        "collapsed": false
      },
      "outputs": [
        {
          "data": {
            "text/plain": [
              "'trainer.train(train_loader=train_loader,\\n              test_loaders=test_loaders,\\n              optimizer=optimizer,\\n              scheduler=scheduler, \\n              regularizer=False, \\n              training_loss=train_loss,\\n              eval_losses=eval_losses)'"
            ]
          },
          "execution_count": 8,
          "metadata": {},
          "output_type": "execute_result"
        }
      ],
      "source": [
        "'''trainer.train(train_loader=train_loader,\n",
        "              test_loaders=test_loaders,\n",
        "              optimizer=optimizer,\n",
        "              scheduler=scheduler, \n",
        "              regularizer=False, \n",
        "              training_loss=train_loss,\n",
        "              eval_losses=eval_losses)'''"
      ]
    },
    {
      "cell_type": "code",
      "execution_count": 9,
      "metadata": {},
      "outputs": [
        {
          "name": "stdout",
          "output_type": "stream",
          "text": [
            "Epoch 0, train loss: 3.371322, test loss: 0.968493, optim contvar: 1.00e-05, optim lr: 8.00e-03\n",
            "Epoch 1, train loss: 0.961308, test loss: 0.975159, optim contvar: 1.00e-05, optim lr: 8.00e-03\n",
            "Epoch 2, train loss: 0.744018, test loss: 0.645036, optim contvar: 1.00e-05, optim lr: 8.00e-03\n",
            "Epoch 3, train loss: 0.497432, test loss: 0.497283, optim contvar: 1.00e-05, optim lr: 8.00e-03\n",
            "Epoch 4, train loss: 0.409234, test loss: 0.400199, optim contvar: 1.00e-05, optim lr: 8.00e-03\n",
            "Epoch 5, train loss: 0.339977, test loss: 0.360551, optim contvar: 1.63e-08, optim lr: 8.00e-03\n",
            "Epoch 6, train loss: 0.304193, test loss: 0.319325, optim contvar: 7.52e-09, optim lr: 8.00e-03\n",
            "Epoch 7, train loss: 0.276086, test loss: 0.299123, optim contvar: 6.83e-09, optim lr: 8.00e-03\n",
            "Epoch 8, train loss: 0.287390, test loss: 0.287391, optim contvar: 1.40e-08, optim lr: 8.00e-03\n",
            "Epoch 9, train loss: 0.269004, test loss: 0.300756, optim contvar: 1.00e-08, optim lr: 8.00e-03\n",
            "Epoch 10, train loss: 0.259964, test loss: 0.386183, optim contvar: 1.42e-08, optim lr: 8.00e-03\n",
            "Epoch 11, train loss: 0.278846, test loss: 0.274096, optim contvar: 5.66e-09, optim lr: 8.00e-03\n",
            "Epoch 12, train loss: 0.275032, test loss: 0.267234, optim contvar: 1.44e-09, optim lr: 8.00e-03\n",
            "Epoch 13, train loss: 0.229582, test loss: 0.238680, optim contvar: 9.89e-10, optim lr: 8.00e-03\n",
            "Epoch 14, train loss: 0.214878, test loss: 0.259189, optim contvar: 9.11e-10, optim lr: 8.00e-03\n",
            "Epoch 15, train loss: 0.219547, test loss: 0.265905, optim contvar: 6.22e-10, optim lr: 8.00e-03\n",
            "Epoch 16, train loss: 0.214114, test loss: 0.234879, optim contvar: 7.37e-10, optim lr: 8.00e-03\n",
            "Epoch 17, train loss: 0.212223, test loss: 0.249472, optim contvar: 9.05e-10, optim lr: 8.00e-03\n",
            "Epoch 18, train loss: 0.206811, test loss: 0.338075, optim contvar: 1.34e-09, optim lr: 8.00e-03\n",
            "Epoch 19, train loss: 0.215107, test loss: 0.240904, optim contvar: 1.94e-09, optim lr: 8.00e-03\n",
            "Epoch 20, train loss: 0.207350, test loss: 0.254543, optim contvar: 2.86e-09, optim lr: 8.00e-03\n",
            "Epoch 21, train loss: 0.194619, test loss: 0.285988, optim contvar: 3.15e-09, optim lr: 8.00e-03\n",
            "Epoch 22, train loss: 0.196947, test loss: 0.226214, optim contvar: 1.20e-09, optim lr: 8.00e-03\n",
            "Epoch 23, train loss: 0.175867, test loss: 0.315085, optim contvar: 7.15e-10, optim lr: 8.00e-03\n",
            "Epoch 24, train loss: 0.199029, test loss: 0.237973, optim contvar: 5.94e-10, optim lr: 8.00e-03\n",
            "Epoch 25, train loss: 0.178020, test loss: 0.224495, optim contvar: 7.44e-10, optim lr: 8.00e-03\n",
            "Epoch 26, train loss: 0.169714, test loss: 0.296690, optim contvar: 6.80e-10, optim lr: 8.00e-03\n",
            "Epoch 27, train loss: 0.189955, test loss: 0.246071, optim contvar: 7.13e-10, optim lr: 8.00e-03\n",
            "Epoch 28, train loss: 0.180680, test loss: 0.269440, optim contvar: 4.19e-10, optim lr: 8.00e-03\n",
            "Epoch 29, train loss: 0.177425, test loss: 0.279580, optim contvar: 3.04e-10, optim lr: 8.00e-03\n",
            "Epoch 30, train loss: 0.183502, test loss: 0.229050, optim contvar: 2.83e-10, optim lr: 8.00e-03\n",
            "Epoch 31, train loss: 0.161493, test loss: 0.237000, optim contvar: 2.43e-10, optim lr: 8.00e-03\n",
            "Epoch 32, train loss: 0.153213, test loss: 0.279321, optim contvar: 2.52e-10, optim lr: 8.00e-03\n",
            "Epoch 33, train loss: 0.159165, test loss: 0.348912, optim contvar: 2.66e-10, optim lr: 8.00e-03\n",
            "Epoch 34, train loss: 0.189206, test loss: 0.215925, optim contvar: 1.69e-10, optim lr: 8.00e-03\n",
            "Epoch 35, train loss: 0.161443, test loss: 0.215488, optim contvar: 1.48e-10, optim lr: 8.00e-03\n",
            "Epoch 36, train loss: 0.156966, test loss: 0.222370, optim contvar: 1.77e-10, optim lr: 8.00e-03\n",
            "Epoch 37, train loss: 0.144798, test loss: 0.221464, optim contvar: 2.55e-10, optim lr: 8.00e-03\n",
            "Epoch 38, train loss: 0.142901, test loss: 0.213677, optim contvar: 2.21e-10, optim lr: 8.00e-03\n",
            "Epoch 39, train loss: 0.148185, test loss: 0.221741, optim contvar: 1.73e-10, optim lr: 8.00e-03\n",
            "Epoch 40, train loss: 0.149958, test loss: 0.222148, optim contvar: 1.62e-10, optim lr: 8.00e-03\n",
            "Epoch 41, train loss: 0.140695, test loss: 0.230064, optim contvar: 1.19e-10, optim lr: 8.00e-03\n",
            "Epoch 42, train loss: 0.133119, test loss: 0.231228, optim contvar: 1.14e-10, optim lr: 8.00e-03\n",
            "Epoch 43, train loss: 0.147396, test loss: 0.228224, optim contvar: 1.29e-10, optim lr: 8.00e-03\n",
            "Epoch 44, train loss: 0.162797, test loss: 0.235105, optim contvar: 1.11e-10, optim lr: 8.00e-03\n",
            "Epoch 45, train loss: 0.149718, test loss: 0.215845, optim contvar: 8.56e-11, optim lr: 8.00e-03\n",
            "Epoch 46, train loss: 0.128042, test loss: 0.211800, optim contvar: 8.05e-11, optim lr: 8.00e-03\n",
            "Epoch 47, train loss: 0.128354, test loss: 0.237797, optim contvar: 7.16e-11, optim lr: 8.00e-03\n",
            "Epoch 48, train loss: 0.129202, test loss: 0.225672, optim contvar: 6.70e-11, optim lr: 8.00e-03\n",
            "Epoch 49, train loss: 0.130597, test loss: 0.210602, optim contvar: 6.62e-11, optim lr: 8.00e-03\n"
          ]
        }
      ],
      "source": [
        "for epoch in range(trainer.n_epochs):\n",
        "    model.train()\n",
        "    train_err = 0.0\n",
        "    train_samples = 0\n",
        "\n",
        "    for idx, sample in enumerate(train_loader):\n",
        "        if trainer.data_processor is not None:\n",
        "            sample = trainer.data_processor.preprocess(sample)\n",
        "        else:\n",
        "            # load data to device if no preprocessor exists\n",
        "            sample = {\n",
        "                k: v.to(self.device)\n",
        "                for k, v in sample.items()\n",
        "                if torch.is_tensor(v)\n",
        "            }\n",
        "        \n",
        "        train_samples += sample[\"y\"].shape[0]\n",
        "\n",
        "        def closure():\n",
        "            # zero the parameter gradients\n",
        "            optimizer.zero_grad(set_to_none=True)\n",
        "\n",
        "            # forward + backward\n",
        "            out = model(**sample)\n",
        "            loss = train_loss(out, **sample)\n",
        "            loss.backward()\n",
        "            del out\n",
        "\n",
        "            return loss\n",
        "\n",
        "        loss = optimizer.step(closure)\n",
        "        train_err += loss.item()\n",
        "\n",
        "    scheduler.step()\n",
        "    warmupscheduler.step()\n",
        "\n",
        "    # test error\n",
        "    model.eval()\n",
        "    test_err = 0.0\n",
        "    test_samples = 0\n",
        "    test_loader = test_loaders[16]\n",
        "\n",
        "    for idx, sample in enumerate(test_loader):\n",
        "        if trainer.data_processor is not None:\n",
        "            sample = trainer.data_processor.preprocess(sample)\n",
        "        else:\n",
        "            # load data to device if no preprocessor exists\n",
        "            sample = {\n",
        "                k: v.to(self.device)\n",
        "                for k, v in sample.items()\n",
        "                if torch.is_tensor(v)\n",
        "            }\n",
        "\n",
        "        test_samples += sample[\"y\"].shape[0]\n",
        "\n",
        "        with torch.no_grad():\n",
        "            out = model(**sample)\n",
        "            loss = eval_losses['h1'](out, **sample)\n",
        "            test_err += loss.item()\n",
        "            del out\n",
        "\n",
        "    train_err /= train_samples\n",
        "    test_err /= test_samples\n",
        "\n",
        "    print(f'Epoch {epoch}, train loss: {train_err:.6f}, test loss: {test_err:.6f}, optim contvar: {torch.exp(optimizer.logcontvar).detach():.2e}, optim lr: {optimizer.param_groups[0][\"lr\"]:.2e}')\n",
        "\n",
        "with open(f'res_{contvar0:.1e}_{contlr:.1e}_{warmup}.txt', \"a\") as myfile:\n",
        "    myfile.write(f'{train_err:.6f}, {test_err:.6f}, {torch.exp(optimizer.logcontvar).detach():.2e}\\n')\n"
      ]
    },
    {
      "cell_type": "markdown",
      "metadata": {},
      "source": [
        "Plot the prediction, and compare with the ground-truth \n",
        "Note that we trained on a very small resolution for\n",
        "a very small number of epochs\n",
        "In practice, we would train at larger resolution, on many more samples.\n",
        "\n",
        "However, for practicity, we created a minimal example that\n",
        "i) fits in just a few Mb of memory\n",
        "ii) can be trained quickly on CPU\n",
        "\n",
        "In practice we would train a Neural Operator on one or multiple GPUs\n",
        "\n"
      ]
    },
    {
      "cell_type": "code",
      "execution_count": 10,
      "metadata": {
        "collapsed": false
      },
      "outputs": [
        {
          "data": {
            "image/png": "[encoded data removed]",
            "text/plain": [
              "<Figure size 700x700 with 9 Axes>"
            ]
          },
          "metadata": {},
          "output_type": "display_data"
        }
      ],
      "source": [
        "test_samples = test_loaders[32].dataset\n",
        "\n",
        "fig = plt.figure(figsize=(7, 7))\n",
        "for index in range(3):\n",
        "    data = test_samples[index]\n",
        "    data = data_processor.preprocess(data, batched=False)\n",
        "    # Input x\n",
        "    x = data['x']\n",
        "    # Ground-truth\n",
        "    y = data['y']\n",
        "    # Model prediction\n",
        "    out = model(x.unsqueeze(0))\n",
        "\n",
        "    ax = fig.add_subplot(3, 3, index*3 + 1)\n",
        "    ax.imshow(x[0].cpu(), cmap='gray')\n",
        "    if index == 0: \n",
        "        ax.set_title('Input x')\n",
        "    plt.xticks([], [])\n",
        "    plt.yticks([], [])\n",
        "\n",
        "    ax = fig.add_subplot(3, 3, index*3 + 2)\n",
        "    ax.imshow(y.squeeze().cpu())\n",
        "    if index == 0: \n",
        "        ax.set_title('Ground-truth y')\n",
        "    plt.xticks([], [])\n",
        "    plt.yticks([], [])\n",
        "\n",
        "    ax = fig.add_subplot(3, 3, index*3 + 3)\n",
        "    ax.imshow(out.squeeze().cpu().detach().numpy())\n",
        "    if index == 0: \n",
        "        ax.set_title('Model prediction')\n",
        "    plt.xticks([], [])\n",
        "    plt.yticks([], [])\n",
        "\n",
        "fig.suptitle('Inputs, ground-truth output and prediction.', y=0.98)\n",
        "plt.tight_layout()\n",
        "fig.show()"
      ]
    }
  ],
  "metadata": {
    "kernelspec": {
      "display_name": "Python 3",
      "language": "python",
      "name": "python3"
    },
    "language_info": {
      "codemirror_mode": {
        "name": "ipython",
        "version": 3
      },
      "file_extension": ".py",
      "mimetype": "text/x-python",
      "name": "python",
      "nbconvert_exporter": "python",
      "pygments_lexer": "ipython3",
      "version": "3.11.4"
    }
  },
  "nbformat": 4,
  "nbformat_minor": 0
}
